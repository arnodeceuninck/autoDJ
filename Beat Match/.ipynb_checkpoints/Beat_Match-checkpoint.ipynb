{
 "cells": [
  {
   "cell_type": "code",
   "execution_count": 1,
   "metadata": {
    "collapsed": false
   },
   "outputs": [
    {
     "name": "stderr",
     "output_type": "stream",
     "text": [
      "/Users/victorlalo10/miniconda2/envs/eecs352/lib/python2.7/site-packages/librosa/core/audio.py:37: UserWarning: Could not import scikits.samplerate. Falling back to scipy.signal\n",
      "  warnings.warn('Could not import scikits.samplerate. '\n"
     ]
    }
   ],
   "source": [
    "import numpy as np, scipy as sp, math, librosa, IPython\n",
    "from IPython.display import Audio"
   ]
  },
  {
   "cell_type": "code",
   "execution_count": 1,
   "metadata": {
    "collapsed": false
   },
   "outputs": [
    {
     "name": "stderr",
     "output_type": "stream",
     "text": [
      "/Users/victorlalo10/miniconda2/envs/eecs352/lib/python2.7/site-packages/librosa/core/audio.py:37: UserWarning: Could not import scikits.samplerate. Falling back to scipy.signal\n",
      "  warnings.warn('Could not import scikits.samplerate. '\n"
     ]
    }
   ],
   "source": [
    "from librosa.core import load\n",
    "\n",
    "One_More = load('One.mp3', sr = 44100, mono = True, )\n",
    "Crunchy = load('Crunchy.m4a')"
   ]
  },
  {
   "cell_type": "markdown",
   "metadata": {},
   "source": [
    "Beat Tracking Algorithm"
   ]
  },
  {
   "cell_type": "code",
   "execution_count": null,
   "metadata": {
    "collapsed": true
   },
   "outputs": [],
   "source": [
    "from librosa.beat import beat_track\n",
    "\n",
    "\n",
    "def beat_match(song1, song2, sr):\n",
    "    \"\"\"\n",
    "    Creates two lists of length equal to the combined length of both songs. The first list is zero padded from the\n",
    "    end of the first song until the end of the second song. The second list is zero padded from the beginning of the\n",
    "    first song until the first beat of the last phrase of that same song. The second song is then appended to the second\n",
    "    list. The list are then added together.\n",
    "    \n",
    "    Input Parameters\n",
    "    ------------------------\n",
    "    \n",
    "    song1: 1-D array containing sample points of first song\n",
    "    \n",
    "    song2: 1-D array containing sample points for second song\n",
    "    \n",
    "    sr: integer representing the rate at which the song is being sampled\n",
    "    \n",
    "    \n",
    "    Returns\n",
    "    ------------------------\n",
    "    \n",
    "    a 1-D array containing a syncronized mixture of both songs\n",
    "    \"\"\"\n",
    "    \n",
    "    tempo1, beat1 = beat_track(song1)\n",
    "    tempo2, beat2 = beat_track(song2)\n",
    "    \n",
    "    "
   ]
  }
 ],
 "metadata": {
  "kernelspec": {
   "display_name": "Python 2",
   "language": "python",
   "name": "python2"
  },
  "language_info": {
   "codemirror_mode": {
    "name": "ipython",
    "version": 2
   },
   "file_extension": ".py",
   "mimetype": "text/x-python",
   "name": "python",
   "nbconvert_exporter": "python",
   "pygments_lexer": "ipython2",
   "version": "2.7.11"
  }
 },
 "nbformat": 4,
 "nbformat_minor": 0
}
