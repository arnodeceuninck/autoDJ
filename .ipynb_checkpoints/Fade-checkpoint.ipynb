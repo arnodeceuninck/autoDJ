{
 "cells": [
  {
   "cell_type": "code",
   "execution_count": 1,
   "metadata": {
    "collapsed": false
   },
   "outputs": [
    {
     "name": "stderr",
     "output_type": "stream",
     "text": [
      "C:\\Users\\Matthew Shipley\\Miniconda2\\envs\\eecs352\\lib\\site-packages\\librosa\\core\\audio.py:37: UserWarning: Could not import scikits.samplerate. Falling back to scipy.signal\n",
      "  warnings.warn('Could not import scikits.samplerate. '\n"
     ]
    }
   ],
   "source": [
    "# This line is a convenience to import most packages you'll need. You may need to import others (eg random and cmath)\n",
    "import IPython, numpy as np, scipy as sp, matplotlib.pyplot as plt, matplotlib, sklearn, librosa, cmath,math\n",
    "from IPython.display import Audio\n",
    "\n",
    "from scipy.fftpack import fft\n",
    "from scipy.signal import hann\n",
    "from __future__ import division"
   ]
  },
  {
   "cell_type": "code",
   "execution_count": 2,
   "metadata": {
    "collapsed": false
   },
   "outputs": [],
   "source": [
    "def fade(X, type, start=None, end=None):\n",
    "    \"\"\"\n",
    "    Takes a 1-D array audio signal X as input and applies an amplitude fade to the signal. Type\n",
    "    indicates whether it is a fade-in or a fade-out, and start and end indicate the index\n",
    "    number of the sample that the fade starts or ends on respectively. If nothing is entered\n",
    "    for start or end, it will start or end at the first or last sample respectively. Otherwise,\n",
    "    the fade will ocur within the start and end index numbers.\n",
    "    \n",
    "    Input Parameters\n",
    "    ----------------\n",
    "    X: a 2-D numpy array of real numbers, where the ith value is the ith sample in the audio signal\n",
    "        \n",
    "    type: \"in\" if the fade starts from 0 and progresses to full amplitude and \"out\" if the fade\n",
    "    starts from full amplitude and progresses to 0\n",
    "    \n",
    "    start: indicates the index that the fade will begin on. If left blank, index number 0 will\n",
    "    be chosen\n",
    "    \n",
    "    end: indicates the index that the fade will end on. If left blank, the last sample of the\n",
    "    signal will be chosen.\n",
    "        \n",
    "    Returns\n",
    "    -------\n",
    "    a 1-D numpy array of real values representing the faded output signal\n",
    "    \"\"\"\n",
    "    \n",
    "    sig_length = len(X)\n",
    "    \n",
    "    if (start==None):\n",
    "        start = 0\n",
    "        \n",
    "    if (end==None):\n",
    "        end = sig_length - 1\n",
    "        \n",
    "    fade_length = 1 + end - start\n",
    "    \n",
    "    fade = np.arange(0,fade_length)\n",
    "\n",
    "    if (type == \"in\"):\n",
    "        fade_in = fade/(fade_length-1)\n",
    "        X[start:(end+1)] = X[start:(end+1)]*fade_in\n",
    "        \n",
    "    if (type == \"out\"):\n",
    "        fade_out = 1 - fade/(fade_length-1)\n",
    "        X[start:(end+1)] = X[start:(end+1)]*fade_out\n",
    "        \n",
    "    return X"
   ]
  }
 ],
 "metadata": {
  "kernelspec": {
   "display_name": "Python 2",
   "language": "python",
   "name": "python2"
  },
  "language_info": {
   "codemirror_mode": {
    "name": "ipython",
    "version": 2
   },
   "file_extension": ".py",
   "mimetype": "text/x-python",
   "name": "python",
   "nbconvert_exporter": "python",
   "pygments_lexer": "ipython2",
   "version": "2.7.11"
  }
 },
 "nbformat": 4,
 "nbformat_minor": 0
}
